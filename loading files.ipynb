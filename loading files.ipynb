{
 "cells": [
  {
   "cell_type": "code",
   "execution_count": 12,
   "metadata": {},
   "outputs": [],
   "source": [
    "import pm4py as pm\n",
    "import pandas as pd\n",
    "from bs4 import BeautifulSoup"
   ]
  },
  {
   "cell_type": "markdown",
   "metadata": {},
   "source": [
    "### Converting xes to csv"
   ]
  },
  {
   "cell_type": "code",
   "execution_count": 7,
   "metadata": {},
   "outputs": [
    {
     "data": {
      "application/vnd.jupyter.widget-view+json": {
       "model_id": "d973f110f3494f73bae2dd31140469ac",
       "version_major": 2,
       "version_minor": 0
      },
      "text/plain": [
       "HBox(children=(HTML(value='parsing log, completed traces :: '), FloatProgress(value=0.0, max=13087.0), HTML(va…"
      ]
     },
     "metadata": {},
     "output_type": "display_data"
    },
    {
     "name": "stdout",
     "output_type": "stream",
     "text": [
      "\n"
     ]
    }
   ],
   "source": [
    "event_log = pm4py.read_xes(\"BPI_Challenge_2012.xes\")\n",
    "df = pm4py.convert_to_dataframe(event_log)\n",
    "df.to_csv('BPI_Challenge_2012.csv')\n",
    "                                    "
   ]
  },
  {
   "cell_type": "markdown",
   "metadata": {},
   "source": [
    "### Opening XML file for BPI "
   ]
  },
  {
   "cell_type": "code",
   "execution_count": 14,
   "metadata": {},
   "outputs": [],
   "source": [
    "with open('DATA.xml', 'r') as f:\n",
    "    data = f.read()\n",
    "    \n",
    "bs_data = BeautifulSoup(data, \"xml\")\n"
   ]
  },
  {
   "cell_type": "code",
   "execution_count": 18,
   "metadata": {},
   "outputs": [
    {
     "name": "stdout",
     "output_type": "stream",
     "text": [
      "<?xml version=\"1.0\" encoding=\"utf-8\"?>\n",
      "<metadata>\n",
      "<doi>10.4121/uuid:3926db30-f712-4394-aebc-75976070e91f</doi>\n",
      "<name>BPI Challenge 2012.xes.gz</name>\n",
      "<description>Event log of a loan application process</description>\n",
      "<language>Dutch</language>\n",
      "<log_type>Real-life</log_type>\n",
      "<process_type>Explicitly structured</process_type>\n",
      "<creation>\n",
      "<insitute>Eindhoven University of Technology</insitute>\n",
      "<person>B.F. van Dongen</person>\n",
      "<place>Eindhoven</place>\n",
      "<time>Mon Apr 23 00:00:00 CEST 2012</time>\n",
      "</creation>\n",
      "<source>\n",
      "<insitute>Eindhoven University of Technology</insitute>\n",
      "<institute_type>University</institute_type>\n",
      "<model>none</model>\n",
      "<program>Proprietary Workflow System</program>\n",
      "</source>\n",
      "<rights type=\"Public\"/>\n",
      "<number_of_traces>13087</number_of_traces>\n",
      "<number_of_events>262200</number_of_events>\n",
      "<events_per_trace>20.035</events_per_trace>\n",
      "<min_events_per_trace>3</min_events_per_trace>\n",
      "<max_events_per_trace>175</max_events_per_trace>\n",
      "<global_attributes>\n",
      "<trace_level>\n",
      "<attribute default=\"UNKNOWN\" key=\"AMOUNT_REQ\"/>\n",
      "<attribute default=\"1970-01-01T00:00:00+01:00\" key=\"REG_DATE\"/>\n",
      "<attribute default=\"UNKNOWN\" key=\"concept:name\"/>\n",
      "</trace_level>\n",
      "<event_level>\n",
      "<attribute default=\"UNKNOWN\" key=\"concept:name\"/>\n",
      "<attribute default=\"UNKNOWN\" key=\"lifecycle:transition\"/>\n",
      "<attribute default=\"1970-01-01T00:00:00+01:00\" key=\"time:timestamp\"/>\n",
      "</event_level>\n",
      "</global_attributes>\n",
      "<meta_extensions>\n",
      "<MetaData_General prefix=\"meta_general\" uri=\"http://www.xes-standard.org/meta_general.xesext\">\n",
      "<classifiers>2</classifiers>\n",
      "<events_average>20.035</events_average>\n",
      "<events_max>175</events_max>\n",
      "<events_min>3</events_min>\n",
      "<events_standard_deviation>19.944</events_standard_deviation>\n",
      "<events_total>262200</events_total>\n",
      "<traces_total>13087</traces_total>\n",
      "</MetaData_General>\n",
      "<MetaData_Concept prefix=\"meta_concept\" uri=\"http://www.xes-standard.org/meta_concept.xesext\">\n",
      "<different_names_average>8.177</different_names_average>\n",
      "<different_names_max>20</different_names_max>\n",
      "<different_names_min>3</different_names_min>\n",
      "<different_names_standard_deviation>5.554</different_names_standard_deviation>\n",
      "<different_names_total>24</different_names_total>\n",
      "<named_events_average>20.035</named_events_average>\n",
      "<named_events_max>175</named_events_max>\n",
      "<named_events_min>3</named_events_min>\n",
      "<named_events_standard_deviation>19.944</named_events_standard_deviation>\n",
      "<named_events_total>262200</named_events_total>\n",
      "</MetaData_Concept>\n",
      "<MetaData_LifeCycle prefix=\"meta_life\" uri=\"http://www.xes-standard.org/meta_life.xesext\">\n",
      "<different_transitions_average>2.476</different_transitions_average>\n",
      "<different_transitions_max>3</different_transitions_max>\n",
      "<different_transitions_min>1</different_transitions_min>\n",
      "<different_transitions_standard_deviation>0.879</different_transitions_standard_deviation>\n",
      "<different_transitions_total>3</different_transitions_total>\n",
      "<transition_events_average>20.035</transition_events_average>\n",
      "<transition_events_max>175</transition_events_max>\n",
      "<transition_events_min>3</transition_events_min>\n",
      "<transition_events_standard_deviation>19.944</transition_events_standard_deviation>\n",
      "<transition_events_total>262200</transition_events_total>\n",
      "</MetaData_LifeCycle>\n",
      "<MetaData_Organization prefix=\"meta_org\" uri=\"http://www.xes-standard.org/meta_org.xesext\">\n",
      "<different_groups_average>1.0</different_groups_average>\n",
      "<different_groups_max>1</different_groups_max>\n",
      "<different_groups_min>1</different_groups_min>\n",
      "<different_groups_standard_deviation>0.0</different_groups_standard_deviation>\n",
      "<different_groups_total>1</different_groups_total>\n",
      "<different_resources_average>4.586</different_resources_average>\n",
      "<different_resources_max>31</different_resources_max>\n",
      "<different_resources_min>1</different_resources_min>\n",
      "<different_resources_standard_deviation>3.859</different_resources_standard_deviation>\n",
      "<different_resources_total>69</different_resources_total>\n",
      "<different_roles_average>1.0</different_roles_average>\n",
      "<different_roles_max>1</different_roles_max>\n",
      "<different_roles_min>1</different_roles_min>\n",
      "<different_roles_standard_deviation>0.0</different_roles_standard_deviation>\n",
      "<different_roles_total>1</different_roles_total>\n",
      "<group_events_average>20.035</group_events_average>\n",
      "<group_events_max>175</group_events_max>\n",
      "<group_events_min>3</group_events_min>\n",
      "<group_events_standard_deviation>19.944</group_events_standard_deviation>\n",
      "<group_events_total>262200</group_events_total>\n",
      "<resource_events_average>20.035</resource_events_average>\n",
      "<resource_events_max>175</resource_events_max>\n",
      "<resource_events_min>3</resource_events_min>\n",
      "<resource_events_standard_deviation>19.944</resource_events_standard_deviation>\n",
      "<resource_events_total>262200</resource_events_total>\n",
      "<role_events_average>20.035</role_events_average>\n",
      "<role_events_max>175</role_events_max>\n",
      "<role_events_min>3</role_events_min>\n",
      "<role_events_standard_deviation>19.944</role_events_standard_deviation>\n",
      "<role_events_total>262200</role_events_total>\n",
      "</MetaData_Organization>\n",
      "<MetaData_Time prefix=\"meta_time\" uri=\"http://www.xes-standard.org/meta_time.xesext\">\n",
      "<duration_average>745100.096</duration_average>\n",
      "<duration_max>1.1855936012E7</duration_max>\n",
      "<duration_min>1.855</duration_min>\n",
      "<duration_standard_deviation>1047977.666</duration_standard_deviation>\n",
      "<duration_total>9.751124955969E9</duration_total>\n",
      "<log_duration>1.4315170135E7</log_duration>\n",
      "<log_end_time>2012-03-14T16:04:54.681+01:00</log_end_time>\n",
      "<log_start_time>2011-10-01T00:38:44.546+02:00</log_start_time>\n",
      "</MetaData_Time>\n",
      "</meta_extensions>\n",
      "<extensions>\n",
      "<Concept prefix=\"concept\" uri=\"http://www.xes-standard.org/concept.xesext\">\n",
      "<name>BPI Challenge 2012</name>\n",
      "</Concept>\n",
      "<Lifecycle prefix=\"lifecycle\" uri=\"http://www.xes-standard.org/lifecycle.xesext\">\n",
      "</Lifecycle>\n",
      "<Organizational prefix=\"org\" uri=\"http://www.xes-standard.org/org.xesext\">\n",
      "</Organizational>\n",
      "<Semantic prefix=\"semantic\" uri=\"http://www.xes-standard.org/semantic.xesext\">\n",
      "</Semantic>\n",
      "<Time prefix=\"time\" uri=\"http://www.xes-standard.org/time.xesext\">\n",
      "</Time>\n",
      "</extensions>\n",
      "</metadata>\n"
     ]
    }
   ],
   "source": [
    "print(bs_data)\n",
    "lang_tag = bs_data.find_all('language')\n",
    "# print(lang_tag)"
   ]
  },
  {
   "cell_type": "markdown",
   "metadata": {},
   "source": [
    "### Road Traffic Fine Management"
   ]
  },
  {
   "cell_type": "code",
   "execution_count": 19,
   "metadata": {},
   "outputs": [
    {
     "data": {
      "application/vnd.jupyter.widget-view+json": {
       "model_id": "a0fcd99fd04b43ac8655cfce6e8875a2",
       "version_major": 2,
       "version_minor": 0
      },
      "text/plain": [
       "HBox(children=(HTML(value='parsing log, completed traces :: '), FloatProgress(value=0.0, max=150370.0), HTML(v…"
      ]
     },
     "metadata": {},
     "output_type": "display_data"
    },
    {
     "name": "stdout",
     "output_type": "stream",
     "text": [
      "\n"
     ]
    }
   ],
   "source": [
    "event_log_road = pm4py.read_xes(\"Road_Traffic_Fine_Management_Process.xes\")\n",
    "df_road = pm4py.convert_to_dataframe(event_log_road)"
   ]
  },
  {
   "cell_type": "code",
   "execution_count": 20,
   "metadata": {},
   "outputs": [
    {
     "data": {
      "text/html": [
       "<div>\n",
       "<style scoped>\n",
       "    .dataframe tbody tr th:only-of-type {\n",
       "        vertical-align: middle;\n",
       "    }\n",
       "\n",
       "    .dataframe tbody tr th {\n",
       "        vertical-align: top;\n",
       "    }\n",
       "\n",
       "    .dataframe thead th {\n",
       "        text-align: right;\n",
       "    }\n",
       "</style>\n",
       "<table border=\"1\" class=\"dataframe\">\n",
       "  <thead>\n",
       "    <tr style=\"text-align: right;\">\n",
       "      <th></th>\n",
       "      <th>amount</th>\n",
       "      <th>org:resource</th>\n",
       "      <th>dismissal</th>\n",
       "      <th>concept:name</th>\n",
       "      <th>vehicleClass</th>\n",
       "      <th>totalPaymentAmount</th>\n",
       "      <th>lifecycle:transition</th>\n",
       "      <th>time:timestamp</th>\n",
       "      <th>article</th>\n",
       "      <th>points</th>\n",
       "      <th>case:concept:name</th>\n",
       "      <th>expense</th>\n",
       "      <th>notificationType</th>\n",
       "      <th>lastSent</th>\n",
       "      <th>paymentAmount</th>\n",
       "      <th>matricola</th>\n",
       "    </tr>\n",
       "  </thead>\n",
       "  <tbody>\n",
       "    <tr>\n",
       "      <th>0</th>\n",
       "      <td>35.0</td>\n",
       "      <td>561</td>\n",
       "      <td>NIL</td>\n",
       "      <td>Create Fine</td>\n",
       "      <td>A</td>\n",
       "      <td>0.0</td>\n",
       "      <td>complete</td>\n",
       "      <td>2006-07-24 00:00:00+02:00</td>\n",
       "      <td>157.0</td>\n",
       "      <td>0.0</td>\n",
       "      <td>A1</td>\n",
       "      <td>NaN</td>\n",
       "      <td>NaN</td>\n",
       "      <td>NaN</td>\n",
       "      <td>NaN</td>\n",
       "      <td>NaN</td>\n",
       "    </tr>\n",
       "    <tr>\n",
       "      <th>1</th>\n",
       "      <td>NaN</td>\n",
       "      <td>NaN</td>\n",
       "      <td>NaN</td>\n",
       "      <td>Send Fine</td>\n",
       "      <td>NaN</td>\n",
       "      <td>NaN</td>\n",
       "      <td>complete</td>\n",
       "      <td>2006-12-05 00:00:00+01:00</td>\n",
       "      <td>NaN</td>\n",
       "      <td>NaN</td>\n",
       "      <td>A1</td>\n",
       "      <td>11.0</td>\n",
       "      <td>NaN</td>\n",
       "      <td>NaN</td>\n",
       "      <td>NaN</td>\n",
       "      <td>NaN</td>\n",
       "    </tr>\n",
       "  </tbody>\n",
       "</table>\n",
       "</div>"
      ],
      "text/plain": [
       "   amount org:resource dismissal concept:name vehicleClass  \\\n",
       "0    35.0          561       NIL  Create Fine            A   \n",
       "1     NaN          NaN       NaN    Send Fine          NaN   \n",
       "\n",
       "   totalPaymentAmount lifecycle:transition             time:timestamp  \\\n",
       "0                 0.0             complete  2006-07-24 00:00:00+02:00   \n",
       "1                 NaN             complete  2006-12-05 00:00:00+01:00   \n",
       "\n",
       "   article  points case:concept:name  expense notificationType lastSent  \\\n",
       "0    157.0     0.0                A1      NaN              NaN      NaN   \n",
       "1      NaN     NaN                A1     11.0              NaN      NaN   \n",
       "\n",
       "   paymentAmount  matricola  \n",
       "0            NaN        NaN  \n",
       "1            NaN        NaN  "
      ]
     },
     "execution_count": 20,
     "metadata": {},
     "output_type": "execute_result"
    }
   ],
   "source": [
    "df_road.head(2)"
   ]
  },
  {
   "cell_type": "code",
   "execution_count": null,
   "metadata": {},
   "outputs": [],
   "source": []
  }
 ],
 "metadata": {
  "kernelspec": {
   "display_name": "Python 3",
   "language": "python",
   "name": "python3"
  },
  "language_info": {
   "codemirror_mode": {
    "name": "ipython",
    "version": 3
   },
   "file_extension": ".py",
   "mimetype": "text/x-python",
   "name": "python",
   "nbconvert_exporter": "python",
   "pygments_lexer": "ipython3",
   "version": "3.8.5"
  }
 },
 "nbformat": 4,
 "nbformat_minor": 4
}
