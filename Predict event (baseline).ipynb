{
 "cells": [
  {
   "cell_type": "code",
   "execution_count": 2,
   "id": "9711176e-f05a-4452-a864-d9532c2aab07",
   "metadata": {},
   "outputs": [],
   "source": [
    "import pandas as pd\n",
    "from scipy.stats import mode\n",
    "import datetime\n",
    "pd.options.mode.chained_assignment = None\n",
    "\n",
    "import timeit\n",
    "\n",
    "start = timeit.default_timer()"
   ]
  },
  {
   "cell_type": "code",
   "execution_count": 3,
   "id": "b77799d0-fdef-4019-80e8-1ff0bda4406c",
   "metadata": {},
   "outputs": [],
   "source": [
    "# Input\n",
    "train = pd.read_csv('./Data/BPI_Challenge_2-training.csv')\n",
    "train['event time:timestamp'] = pd.to_datetime(train['event time:timestamp'])\n",
    "predicted_lst = []"
   ]
  },
  {
   "cell_type": "code",
   "execution_count": 4,
   "id": "5989f781-04b0-4790-afd1-d2ad00679ef6",
   "metadata": {},
   "outputs": [],
   "source": [
    "train['actual next activity'] = train.groupby('case concept:name')['event concept:name'].shift(-1)"
   ]
  },
  {
   "cell_type": "code",
   "execution_count": 5,
   "id": "6e0d473b-ad03-4fae-8fc2-47a47f5f572b",
   "metadata": {},
   "outputs": [],
   "source": [
    "import warnings\n",
    "warnings.filterwarnings(\"ignore\")\n",
    "\n",
    "for i in range(len(train)):\n",
    "    predicted_lst.append(train.iloc[:i+1][train['case concept:name'] == train['case concept:name'].iloc[i]]['event concept:name'].value_counts().idxmax())"
   ]
  },
  {
   "cell_type": "code",
   "execution_count": 6,
   "id": "ee3b32da-df78-490e-9455-e6fccee88818",
   "metadata": {},
   "outputs": [],
   "source": [
    "train['predicted'] = predicted_lst"
   ]
  },
  {
   "cell_type": "code",
   "execution_count": 23,
   "id": "dcca162a-5561-4a11-a8f5-5bd1f97b330f",
   "metadata": {},
   "outputs": [],
   "source": [
    "# Evaluation\n",
    "y_pred = train['predicted']\n",
    "y = train['actual next activity']\n",
    "accuracy = (y_pred == y).sum()/len(y_pred)\n",
    "\n",
    "stop = timeit.default_timer()\n",
    "\n",
    "print('Time: ', stop - start)"
   ]
  },
  {
   "cell_type": "code",
   "execution_count": 25,
   "id": "f6b28fed-7193-45ca-a4d8-47099d2d6225",
   "metadata": {},
   "outputs": [
    {
     "name": "stdout",
     "output_type": "stream",
     "text": [
      "Percentage of CPU used: 26.7\n",
      "Percentage of memory used: 43.1\n",
      "Accuracy:  0.3063108449134002\n"
     ]
    }
   ],
   "source": [
    "import psutil\n",
    "print(\"Percentage of CPU used:\",psutil.cpu_percent())\n",
    "\n",
    "print(\"Percentage of memory used:\",psutil.virtual_memory().percent)\n",
    "\n",
    "print(\"Accuracy: \", accuracy)"
   ]
  },
  {
   "cell_type": "code",
   "execution_count": null,
   "id": "fa0a0260-1012-40c3-8e09-c621c0a12892",
   "metadata": {},
   "outputs": [],
   "source": [
    "# Test"
   ]
  },
  {
   "cell_type": "code",
   "execution_count": 28,
   "id": "c2e9d441-cb15-4de2-983c-76b7954efcf6",
   "metadata": {},
   "outputs": [],
   "source": [
    "import timeit\n",
    "start = timeit.default_timer()\n",
    "test = pd.read_csv('./Data/BPI_Challenge_2-test.csv')\n",
    "test['event time:timestamp'] = pd.to_datetime(test['event time:timestamp'])\n",
    "predicted_lst_test = []"
   ]
  },
  {
   "cell_type": "code",
   "execution_count": 29,
   "id": "143a59d1-2861-44e4-abc4-bfae9bfb369c",
   "metadata": {},
   "outputs": [],
   "source": [
    "test['actual next activity'] = test.groupby('case concept:name')['event concept:name'].shift(-1)"
   ]
  },
  {
   "cell_type": "code",
   "execution_count": 30,
   "id": "04a91958-9bfc-4693-a2ce-1fdd1daa2204",
   "metadata": {},
   "outputs": [],
   "source": [
    "import warnings\n",
    "warnings.filterwarnings(\"ignore\")\n",
    "\n",
    "for i in range(len(test)):\n",
    "    predicted_lst_test.append(test.iloc[:i+1][test['case concept:name'] == test['case concept:name'].iloc[i]]['event concept:name'].value_counts().idxmax())"
   ]
  },
  {
   "cell_type": "code",
   "execution_count": 31,
   "id": "74a533d0-c393-4614-8e83-5eb84b114e79",
   "metadata": {},
   "outputs": [],
   "source": [
    "test['predicted'] = predicted_lst_test"
   ]
  },
  {
   "cell_type": "code",
   "execution_count": 32,
   "id": "6036d9c4-34a8-4a18-842a-cdd0f8979706",
   "metadata": {},
   "outputs": [
    {
     "name": "stdout",
     "output_type": "stream",
     "text": [
      "Time:  587.8145242999999\n"
     ]
    }
   ],
   "source": [
    "# Evaluation\n",
    "y_pred_test = test['predicted']\n",
    "y_test = test['actual next activity']\n",
    "accuracy_test = (y_pred_test == y_test).sum()/len(y_pred_test)\n",
    "\n",
    "stop = timeit.default_timer()\n",
    "\n",
    "print('Time: ', stop - start)"
   ]
  },
  {
   "cell_type": "code",
   "execution_count": 33,
   "id": "7508ce9f-ea7e-47d8-85c3-1ac7c3063f27",
   "metadata": {},
   "outputs": [
    {
     "name": "stdout",
     "output_type": "stream",
     "text": [
      "Percentage of CPU used: 33.8\n",
      "Percentage of memory used: 44.1\n",
      "Accuracy:  0.2861593793781235\n"
     ]
    }
   ],
   "source": [
    "print(\"Percentage of CPU used:\",psutil.cpu_percent())\n",
    "\n",
    "print(\"Percentage of memory used:\",psutil.virtual_memory().percent)\n",
    "\n",
    "print(\"Accuracy: \", accuracy_test)"
   ]
  },
  {
   "cell_type": "code",
   "execution_count": null,
   "id": "b4340c93-9cc3-4516-b008-dbf8ffb81d65",
   "metadata": {},
   "outputs": [],
   "source": []
  }
 ],
 "metadata": {
  "kernelspec": {
   "display_name": "Python 3 (ipykernel)",
   "language": "python",
   "name": "python3"
  },
  "language_info": {
   "codemirror_mode": {
    "name": "ipython",
    "version": 3
   },
   "file_extension": ".py",
   "mimetype": "text/x-python",
   "name": "python",
   "nbconvert_exporter": "python",
   "pygments_lexer": "ipython3",
   "version": "3.9.7"
  }
 },
 "nbformat": 4,
 "nbformat_minor": 5
}
